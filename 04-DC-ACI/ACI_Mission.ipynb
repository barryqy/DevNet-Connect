{
 "cells": [
  {
   "cell_type": "code",
   "execution_count": null,
   "metadata": {},
   "outputs": [],
   "source": [
    "***MISSION.should you chose to accept it***\n",
    "\n",
    "You will be using the same skills from the lab you just went through. Look for the word MISSION, your challenge will\n",
    "be replacing the word MISSION with appropriate python keyword. GOOD LUCK!!\n"
   ]
  },
  {
   "cell_type": "code",
   "execution_count": 1,
   "metadata": {},
   "outputs": [],
   "source": [
    "#import required libraries\n",
    "from acitoolkit.acitoolkit import Session\n",
    "from acitoolkit import Faults\n",
    "import json\n",
    "import requests\n",
    "import ciscosparkapi\n",
    "\n"
   ]
  },
  {
   "cell_type": "code",
   "execution_count": 2,
   "metadata": {},
   "outputs": [],
   "source": [
    "URL = 'https://sandboxapicdc.cisco.com'\n",
    "LOGIN = 'admin'\n",
    "PASSWORD = 'ciscopsdt'"
   ]
  },
  {
   "cell_type": "code",
   "execution_count": 3,
   "metadata": {},
   "outputs": [],
   "source": [
    "requests.packages.urllib3.disable_warnings() # Disable warning message\n",
    "fault_count = {\"total\": 0, \"critical\": 0}"
   ]
  },
  {
   "cell_type": "code",
   "execution_count": 4,
   "metadata": {},
   "outputs": [
    {
     "data": {
      "text/plain": [
       "<Response [200]>"
      ]
     },
     "execution_count": 4,
     "metadata": {},
     "output_type": "execute_result"
    }
   ],
   "source": [
    "# connect to the apic\n",
    "session = Session(URL, LOGIN, PASSWORD)\n",
    "session.login()\n",
    "# <Response [200]> --> If you do not see this response the login did not work"
   ]
  },
  {
   "cell_type": "code",
   "execution_count": 5,
   "metadata": {},
   "outputs": [],
   "source": [
    "# MISSION: Create an instance of the toolkit class representing ACI Faults\n",
    "# Hint: the class is called \"Faults\" and takes no parameters\n",
    "faults_obj = Faults()"
   ]
  },
  {
   "cell_type": "code",
   "execution_count": 6,
   "metadata": {},
   "outputs": [
    {
     "data": {
      "text/plain": [
       "['__class__',\n",
       " '__delattr__',\n",
       " '__dict__',\n",
       " '__dir__',\n",
       " '__doc__',\n",
       " '__eq__',\n",
       " '__format__',\n",
       " '__ge__',\n",
       " '__getattribute__',\n",
       " '__gt__',\n",
       " '__hash__',\n",
       " '__init__',\n",
       " '__init_subclass__',\n",
       " '__le__',\n",
       " '__lt__',\n",
       " '__module__',\n",
       " '__ne__',\n",
       " '__new__',\n",
       " '__reduce__',\n",
       " '__reduce_ex__',\n",
       " '__repr__',\n",
       " '__setattr__',\n",
       " '__sizeof__',\n",
       " '__str__',\n",
       " '__subclasshook__',\n",
       " '__weakref__',\n",
       " '_add_relation',\n",
       " '_check_attachment',\n",
       " '_check_relation',\n",
       " '_dedup_searchables',\n",
       " '_define_searchables',\n",
       " '_extract_relationships',\n",
       " '_generate_attributes',\n",
       " '_get_all_detached_relation',\n",
       " '_get_all_relation',\n",
       " '_get_all_relations_by_class',\n",
       " '_get_any_relation',\n",
       " '_get_apic_classes',\n",
       " '_get_apic_classes_in_faults',\n",
       " '_get_children_classes',\n",
       " '_get_children_concrete_classes',\n",
       " '_get_instance_subscription_urls',\n",
       " '_get_name_dn_delimiters',\n",
       " '_get_name_from_dn',\n",
       " '_get_parent_class',\n",
       " '_get_parent_dn',\n",
       " '_get_parent_from_dn',\n",
       " '_get_starting_name_delimiter',\n",
       " '_get_subscription_urls',\n",
       " '_get_toolkit_to_apic_classmap',\n",
       " '_get_url_extension',\n",
       " '_has_any_relation',\n",
       " '_has_relation',\n",
       " '_instance_get_event',\n",
       " '_instance_get_subtree_faults',\n",
       " '_instance_has_events',\n",
       " '_instance_has_subtree_faults',\n",
       " '_instance_subscribe',\n",
       " '_instance_unsubscribe',\n",
       " '_populate_from_attributes',\n",
       " '_remove_all_relation',\n",
       " '_remove_attachment',\n",
       " '_remove_relation',\n",
       " 'add_child',\n",
       " 'add_tag',\n",
       " 'attach',\n",
       " 'cause',\n",
       " 'check_session',\n",
       " 'delete_tag',\n",
       " 'descr',\n",
       " 'detach',\n",
       " 'dn',\n",
       " 'domain',\n",
       " 'find',\n",
       " 'get',\n",
       " 'get_all_attached',\n",
       " 'get_all_attachments',\n",
       " 'get_attributes',\n",
       " 'get_child',\n",
       " 'get_children',\n",
       " 'get_deep',\n",
       " 'get_deep_apic_classes',\n",
       " 'get_dn_from_attributes',\n",
       " 'get_event',\n",
       " 'get_fault',\n",
       " 'get_faults',\n",
       " 'get_faults_by_filter',\n",
       " 'get_from_json',\n",
       " 'get_interfaces',\n",
       " 'get_json',\n",
       " 'get_parent',\n",
       " 'get_searchable',\n",
       " 'get_table',\n",
       " 'get_tags',\n",
       " 'has_attachment',\n",
       " 'has_child',\n",
       " 'has_detachment',\n",
       " 'has_events',\n",
       " 'has_faults',\n",
       " 'has_parent',\n",
       " 'has_tag',\n",
       " 'has_tags',\n",
       " 'info',\n",
       " 'infoList',\n",
       " 'is_attached',\n",
       " 'is_deleted',\n",
       " 'is_detached',\n",
       " 'is_interface',\n",
       " 'mark_as_deleted',\n",
       " 'mask_class_from_graphs',\n",
       " 'populate_children',\n",
       " 'remove_child',\n",
       " 'remove_tag',\n",
       " 'rule',\n",
       " 'set_parent',\n",
       " 'severity',\n",
       " 'subject',\n",
       " 'subscribe',\n",
       " 'subscribe_faults',\n",
       " 'subscribe_to_fault_instances_subtree',\n",
       " 'type',\n",
       " 'unsubscribe',\n",
       " 'update_db',\n",
       " 'validate_fault_filter']"
      ]
     },
     "execution_count": 6,
     "metadata": {},
     "output_type": "execute_result"
    }
   ],
   "source": [
    "#Use python dir() functionality to find out properties of class \"faults_obj\"\n",
    "#You can see print out different faults properties\n",
    "#You will need some of the properties in order to complete the mission in next section of the code\n",
    "dir(faults_obj)"
   ]
  },
  {
   "cell_type": "code",
   "execution_count": 7,
   "metadata": {},
   "outputs": [
    {
     "name": "stdout",
     "output_type": "stream",
     "text": [
      "****************\n",
      "    Description         : Storage unit /mgmt on node 1 with hostname apic1 mounted at /mgmt is 98% full\n",
      "    Distinguished Name  : topology/pod-1/node-1/sys/ch/p-[/mgmt]-f-[/dev/mapper/cryptdir2]/fault-F1529\n",
      "    Rule                : eqpt-storage-full-critical\n",
      "    Severity            : critical\n",
      "    Type                : operational\n",
      "    Domain              : infra\n",
      "****************\n",
      "    Description         : Bond Interface po1.1 on node 1 of fabric ACI Fabric1 with hostname apic1 is now down\n",
      "    Distinguished Name  : topology/pod-1/node-1/sys/caggr-[po1.1]/fault-F0104\n",
      "    Rule                : cnw-aggr-if-down\n",
      "    Severity            : critical\n",
      "    Type                : operational\n",
      "    Domain              : infra\n"
     ]
    }
   ],
   "source": [
    "# Monitor the Faults on the APIC\n",
    "faults_obj.subscribe_faults(session)\n",
    "while faults_obj.has_faults(session):\n",
    "    if faults_obj.has_faults(session):\n",
    "        faults = faults_obj.get_faults(session)\n",
    "\n",
    "        if faults is not None:\n",
    "            for fault in faults:\n",
    "                message = []\n",
    "                fault_count[\"total\"] += 1\n",
    "                if fault is not None and fault.severity in [\"critical\"]:\n",
    "                    fault_count[\"critical\"] += 1\n",
    "                    # MISSION: Each fault object has several properties describing the fault.\n",
    "                    #       Complete each line below with the correct property.\n",
    "                    #       The first two are already complete.\n",
    "                    #       Use python dir() functionality to find out properties of object \"faults_obj\" in the last section \n",
    "                    #       to be used in below code to print out different faults properties\n",
    "                    #       dir(faults_obj)\n",
    "                    message.append( \"****************\")\n",
    "                    message.append( \"    Description         : \" + fault.descr)\n",
    "                    message.append( \"    Distinguished Name  : \" + fault.dn)\n",
    "                    message.append( \"    Rule                : \" + fault.MISSION)\n",
    "                    message.append( \"    Severity            : \" + fault.MISSION)\n",
    "                    message.append( \"    Type                : \" + fault.MISSION)\n",
    "                    message.append( \"    Domain              : \" + fault.MISSION)\n",
    "                    print(\"\\n\".join(message))\n"
   ]
  },
  {
   "cell_type": "code",
   "execution_count": 9,
   "metadata": {},
   "outputs": [],
   "source": [
    "#roomId is already generated and entered below for you.\n",
    "#replace \"TOKEN\" with personal access token you generated using last step.\n",
    "\n",
    "token = 'Mzg2MDU2NWItZWI5Zi00ODQzLTlhNGEtOWJjZjAzZWZhMGQxMDQyM2IzYWEtYWNh_PF84_consumer'\n",
    "room_id = 'Y2lzY29zcGFyazovL3VzL1JPT00vMTYzZmEwODAtNTgwOS0xMWVhLWI2ZTYtNjNmNTg3ZGMyM2Uw'\n"
   ]
  },
  {
   "cell_type": "code",
   "execution_count": 11,
   "metadata": {},
   "outputs": [
    {
     "name": "stdout",
     "output_type": "stream",
     "text": [
      "2316 Faults were found.\n",
      "  2 listed above are critical\n"
     ]
    }
   ],
   "source": [
    "# Print completion message\n",
    "print(\"{} Faults were found.\\n  {} listed above are critical\".format(fault_count[\"total\"], fault_count[\"critical\"]))"
   ]
  },
  {
   "cell_type": "code",
   "execution_count": 12,
   "metadata": {},
   "outputs": [],
   "source": [
    "#MISSION: Use appropriate API method to post the result into the room\n",
    "spark = ciscosparkapi.CiscoSparkAPI(access_token=token)\n",
    "message = spark.messages.MISSION(roomId=room_id, text=\"{} Faults were found.\\n  {} listed above are critical\"\n",
    "                                .format(fault_count[\"total\"], fault_count[\"critical\"]))"
   ]
  },
  {
   "cell_type": "code",
   "execution_count": null,
   "metadata": {},
   "outputs": [],
   "source": [
    "exit()"
   ]
  }
 ],
 "metadata": {
  "kernelspec": {
   "display_name": "venv",
   "language": "python",
   "name": "venv"
  },
  "language_info": {
   "codemirror_mode": {
    "name": "ipython",
    "version": 3
   },
   "file_extension": ".py",
   "mimetype": "text/x-python",
   "name": "python",
   "nbconvert_exporter": "python",
   "pygments_lexer": "ipython3",
   "version": "3.6.5"
  }
 },
 "nbformat": 4,
 "nbformat_minor": 4
}
