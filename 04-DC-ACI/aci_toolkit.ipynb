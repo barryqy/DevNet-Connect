{
 "cells": [
  {
   "cell_type": "code",
   "execution_count": null,
   "metadata": {},
   "outputs": [],
   "source": [
    "***Pre-requisites***\n",
    "\n",
    "You need WebEx Teams account for this lab. if you dont have an account it already, signup using below link -\n",
    "https://www.webex.com/team-collaboration.html\n",
    "\n",
    "Signup using your preferred email ID. You will receive confirmation email and then fill out basic info. \n",
    "And you are set!!\n",
    "\n",
    "Signin to WebEx Teams using browser (https://teams.webex.com/signin) or use desktop application installed \n",
    "already for you"
   ]
  },
  {
   "cell_type": "markdown",
   "metadata": {
    "colab_type": "text",
    "id": "m01bCuoV_BUY"
   },
   "source": [
    "**ACI Toolkit**\n",
    "\n",
    "---\n",
    "\n",
    "\n",
    "\n",
    "Many people begin using the REST API with a tool like POSTMAN, which is an easy way to become familiar with and make test API calls. ACI offers another tool, ACI Toolkit, that makes it easy to start interacting with the APIC programmatically. ACI Toolkit is a set of Python libraries that are built to interact with a subset of the more commonly used objects in the MIT. It also comes with a collection of ready made python apps built to accomplish specific tasks.\n",
    "\n",
    "The ACI Toolkit can be used to create, read, update, and delete most of the objects inside of the Tenant Class, and also works with the Fabric Access Policies (layer 2 encaps, physical ports, port-channels/vpc, and so on).\n",
    "\n",
    "You can also go through below learning lab that will walk you through ***ACI Programmability***\n",
    "\n",
    "https://developer.cisco.com/learning/devnet-express/devnet-express-dci-v2/dne-dci-intro-aci/dne-dci-intro-aci-02_programmability-options/step/1"
   ]
  },
  {
   "cell_type": "code",
   "execution_count": null,
   "metadata": {},
   "outputs": [],
   "source": [
    "From here, you will find different code sections below. Start with clicking on \"Run\" button above (from the toolbar)\n",
    "and it will take you to the next section of a code. Keep going and see different results expected in each section\n",
    "of the code. There are some section where you wont get any result, dont worry; Thats most probably because your\n",
    "code had work just fine. Each code section has comments to explainbriefly what it does."
   ]
  },
  {
   "cell_type": "code",
   "execution_count": 1,
   "metadata": {
    "colab": {},
    "colab_type": "code",
    "id": "GdHwpy2J2ng1"
   },
   "outputs": [],
   "source": [
    "# import required libraries\n",
    "from acitoolkit.acitoolkit import *\n",
    "import json\n",
    "import requests\n",
    "import ciscosparkapi"
   ]
  },
  {
   "cell_type": "code",
   "execution_count": 2,
   "metadata": {},
   "outputs": [],
   "source": [
    "# ACI sandbox credential details\n",
    "URL = 'https://sandboxapicdc.cisco.com'\n",
    "LOGIN = 'admin'\n",
    "PASSWORD = 'ciscopsdt'"
   ]
  },
  {
   "cell_type": "code",
   "execution_count": 3,
   "metadata": {
    "colab": {
     "base_uri": "https://localhost:8080/",
     "height": 210
    },
    "colab_type": "code",
    "id": "TGq-ge0f9_It",
    "outputId": "ab1cfed1-458e-4f59-b894-0b37af533ee4"
   },
   "outputs": [
    {
     "data": {
      "text/plain": [
       "<Response [200]>"
      ]
     },
     "execution_count": 3,
     "metadata": {},
     "output_type": "execute_result"
    }
   ],
   "source": [
    "# connect to the apic\n",
    "session = Session(URL, LOGIN, PASSWORD)\n",
    "session.login()\n",
    "# <Response [200]> --> If you do not see this response the login did not work"
   ]
  },
  {
   "cell_type": "code",
   "execution_count": 4,
   "metadata": {
    "colab": {
     "base_uri": "https://localhost:8080/",
     "height": 210
    },
    "colab_type": "code",
    "id": "K81wP7NiQq0V",
    "outputId": "bff3c335-de22-4075-89be-75db0fb99c67"
   },
   "outputs": [
    {
     "name": "stdout",
     "output_type": "stream",
     "text": [
      "Student-BJ\n",
      "Heroes1\n",
      "hk_01810\n",
      "infra\n",
      "mgmt\n",
      "common\n",
      "Heroes\n",
      "SnV\n",
      "test\n",
      "RedHat_Ansible2\n",
      "tn_dsp\n",
      "43403\n",
      "Ten1\n",
      "INITIAL_Tookit_Tenant\n",
      "Production\n",
      "RB\n",
      "1at500\n",
      "testJordan\n",
      "MIRV1\n",
      "MIRV1-1\n",
      "sm-one\n",
      "INITIALS_Example_Tenant\n",
      "zebra_tenant_1\n",
      "Alex91452\n",
      "BlueStar-Tenant\n",
      "A1\n",
      "Tenant_FirstName\n",
      "2at500\n",
      "INITIALS_Cobra_Tenant\n",
      "INITIALS_Cobra_Tenant_Jeff\n",
      "LA-Network1\n",
      "PB_123\n",
      "PB_456\n",
      "PB_789\n"
     ]
    }
   ],
   "source": [
    "# print list of tenants\n",
    "tenant_list = Tenant.get(session)\n",
    "for tenant in tenant_list:\n",
    "  print(tenant)"
   ]
  },
  {
   "cell_type": "code",
   "execution_count": 5,
   "metadata": {
    "colab": {
     "base_uri": "https://localhost:8080/",
     "height": 34
    },
    "colab_type": "code",
    "id": "s6ozrVFtdLF-",
    "outputId": "cc0d9b0f-a45c-4246-dfbf-bcd54a114fbb"
   },
   "outputs": [
    {
     "name": "stdout",
     "output_type": "stream",
     "text": [
      "VRF_FirstName\n"
     ]
    }
   ],
   "source": [
    "# create tenant and vrf\n",
    "# replace FirstName with your first name\n",
    "tenant_name = \"Tenant_FirstName\"\n",
    "tenant = Tenant(tenant_name)\n",
    "vrf = Context(\"VRF_FirstName\", tenant)\n",
    "print(vrf)"
   ]
  },
  {
   "cell_type": "code",
   "execution_count": 7,
   "metadata": {
    "colab": {},
    "colab_type": "code",
    "id": "UWeajRZ1dPON"
   },
   "outputs": [
    {
     "name": "stdout",
     "output_type": "stream",
     "text": [
      "BD_YourFirstName\n"
     ]
    }
   ],
   "source": [
    "# create bridge domain with vrf relationship\n",
    "# replace FirstName with your first name\n",
    "bridge_domain = BridgeDomain(\"BD_YourFirstName\", tenant)\n",
    "bridge_domain.add_context(vrf)\n",
    "print(bridge_domain)"
   ]
  },
  {
   "cell_type": "code",
   "execution_count": 8,
   "metadata": {
    "colab": {},
    "colab_type": "code",
    "id": "2JRKEMf-dRuO"
   },
   "outputs": [
    {
     "name": "stdout",
     "output_type": "stream",
     "text": [
      "SUBNET_YourFirstName\n"
     ]
    }
   ],
   "source": [
    "# reate public subnet and assign gateway\n",
    "# replace FirstName with your first name\n",
    "subnet = Subnet(\"SUBNET_YourFirstName\", bridge_domain)\n",
    "subnet.set_scope(\"public\")\n",
    "subnet.set_addr(\"10.10.10.1/24\")\n",
    "print(subnet)"
   ]
  },
  {
   "cell_type": "code",
   "execution_count": 12,
   "metadata": {
    "colab": {},
    "colab_type": "code",
    "id": "8M9bBojzgWau"
   },
   "outputs": [
    {
     "name": "stdout",
     "output_type": "stream",
     "text": [
      "http\n"
     ]
    }
   ],
   "source": [
    "# create http filter and filter entry\n",
    "filter_http = Filter(\"http\", tenant)\n",
    "filter_entry_tcp80 = FilterEntry(\"tcp-80\", filter_http, etherT=\"ip\", prot=\"tcp\", dFromPort=\"http\", dToPort=\"http\")\n",
    "print(filter_http)"
   ]
  },
  {
   "cell_type": "code",
   "execution_count": 13,
   "metadata": {
    "colab": {},
    "colab_type": "code",
    "id": "gzBvcnp0dXmG"
   },
   "outputs": [
    {
     "name": "stdout",
     "output_type": "stream",
     "text": [
      "sql\n"
     ]
    }
   ],
   "source": [
    "# create sql filter and filter entry\n",
    "filter_sql = Filter(\"sql\", tenant)\n",
    "filter_entry_tcp1433 = FilterEntry(\"tcp-1433\", filter_sql, etherT=\"ip\", prot=\"tcp\", dFromPort=\"1433\", dToPort=\"1433\")\n",
    "print(filter_sql)\n"
   ]
  },
  {
   "cell_type": "code",
   "execution_count": 14,
   "metadata": {
    "colab": {},
    "colab_type": "code",
    "id": "6B3T1SoTgVnr"
   },
   "outputs": [
    {
     "name": "stdout",
     "output_type": "stream",
     "text": [
      "web\n"
     ]
    }
   ],
   "source": [
    "# create web contract and associate to http filter\n",
    "contract_web = Contract(\"web\", tenant)\n",
    "contract_subject_http = ContractSubject(\"http\", contract_web)\n",
    "contract_subject_http.add_filter(filter_http)\n",
    "print(contract_web)"
   ]
  },
  {
   "cell_type": "code",
   "execution_count": 16,
   "metadata": {
    "colab": {},
    "colab_type": "code",
    "id": "ISCrIyCPdcBt"
   },
   "outputs": [
    {
     "name": "stdout",
     "output_type": "stream",
     "text": [
      "database\n"
     ]
    }
   ],
   "source": [
    "# create database contract and associate to sql filter\n",
    "contract_database = Contract(\"database\", tenant)\n",
    "contract_subject_sql = ContractSubject(\"sql\", contract_database)\n",
    "contract_subject_sql.add_filter(filter_sql)\n",
    "print(contract_database)"
   ]
  },
  {
   "cell_type": "code",
   "execution_count": 17,
   "metadata": {
    "colab": {},
    "colab_type": "code",
    "id": "g4vDPszIdeVt"
   },
   "outputs": [
    {
     "name": "stdout",
     "output_type": "stream",
     "text": [
      "APP_YourFirstName\n"
     ]
    }
   ],
   "source": [
    "# create application profile\n",
    "app_profile = AppProfile(\"APP_YourFirstName\", tenant)\n",
    "print(app_profile)"
   ]
  },
  {
   "cell_type": "code",
   "execution_count": 18,
   "metadata": {
    "colab": {
     "base_uri": "https://localhost:8080/",
     "height": 34
    },
    "colab_type": "code",
    "id": "EuaDWVeMdgcp",
    "outputId": "2505591e-4af0-4aca-94b9-713172c1682b"
   },
   "outputs": [
    {
     "name": "stdout",
     "output_type": "stream",
     "text": [
      "Web\n"
     ]
    }
   ],
   "source": [
    "# create web epg and associate bridge domain and contracts\n",
    "epg_web = EPG(\"Web\", app_profile)\n",
    "epg_web.add_bd(bridge_domain)\n",
    "epg_web.provide(contract_web)\n",
    "epg_web.consume(contract_database)\n",
    "print(epg_web)"
   ]
  },
  {
   "cell_type": "code",
   "execution_count": 19,
   "metadata": {
    "colab": {
     "base_uri": "https://localhost:8080/",
     "height": 34
    },
    "colab_type": "code",
    "id": "wb33khJndiMl",
    "outputId": "947d942a-f154-4001-ea95-2e2c8f0b91f4"
   },
   "outputs": [
    {
     "name": "stdout",
     "output_type": "stream",
     "text": [
      "Database\n"
     ]
    }
   ],
   "source": [
    "# create db epg and associate bridge domain and contract\n",
    "epg_database = EPG(\"Database\", app_profile)\n",
    "epg_database.add_bd(bridge_domain)\n",
    "epg_database.provide(contract_database)\n",
    "print(epg_database)"
   ]
  },
  {
   "cell_type": "code",
   "execution_count": 20,
   "metadata": {
    "colab": {},
    "colab_type": "code",
    "id": "T5WLAKzkdlHW"
   },
   "outputs": [
    {
     "name": "stdout",
     "output_type": "stream",
     "text": [
      "Student-BJ\n",
      "Heroes1\n",
      "hk_01810\n",
      "infra\n",
      "mgmt\n",
      "common\n",
      "Heroes\n",
      "SnV\n",
      "test\n",
      "RedHat_Ansible2\n",
      "tn_dsp\n",
      "43403\n",
      "Ten1\n",
      "INITIAL_Tookit_Tenant\n",
      "Production\n",
      "RB\n",
      "1at500\n",
      "testJordan\n",
      "MIRV1\n",
      "MIRV1-1\n",
      "sm-one\n",
      "INITIALS_Example_Tenant\n",
      "zebra_tenant_1\n",
      "Alex91452\n",
      "BlueStar-Tenant\n",
      "A1\n",
      "Tenant_FirstName\n",
      "2at500\n",
      "INITIALS_Cobra_Tenant\n",
      "INITIALS_Cobra_Tenant_Jeff\n",
      "LA-Network1\n",
      "PB_123\n",
      "PB_456\n",
      "PB_789\n"
     ]
    }
   ],
   "source": [
    "# collect list of tenants\n",
    "tenant_list = Tenant.get(session)\n",
    "\n",
    "# print list of tenants\n",
    "tenant_list\n",
    "for tn in tenant_list:\n",
    "    print(tn.name)"
   ]
  },
  {
   "cell_type": "code",
   "execution_count": 27,
   "metadata": {
    "colab": {},
    "colab_type": "code",
    "id": "OYw5D9CLdtxq"
   },
   "outputs": [
    {
     "name": "stdout",
     "output_type": "stream",
     "text": [
      "\n",
      "/api/mo/uni.json\n",
      "\n",
      "{'fvTenant': {'attributes': {'name': 'Tenant_FirstName'}, 'children': [{'fvCtx': {'attributes': {'name': 'VRF_FirstName', 'pcEnfPref': 'enforced'}, 'children': []}}, {'fvBD': {'attributes': {'name': 'BD_YourFirstName', 'unkMacUcastAct': 'proxy', 'unkMcastAct': 'flood', 'arpFlood': 'no', 'unicastRoute': 'yes', 'multiDstPktAct': 'bd-flood'}, 'children': [{'fvRsCtx': {'attributes': {'tnFvCtxName': 'VRF_FirstName'}}}, {'fvSubnet': {'attributes': {'name': 'SUBNET_YourFirstName', 'ip': '10.10.10.1/24', 'scope': 'public'}, 'children': []}}]}}, {'vzFilter': {'attributes': {'name': 'http'}, 'children': [{'vzEntry': {'attributes': {'name': 'tcp-80', 'applyToFrag': '0', 'arpOpc': '0', 'dFromPort': 'http', 'dToPort': 'http', 'etherT': 'ip', 'prot': 'tcp', 'sFromPort': '0', 'sToPort': '0', 'tcpRules': '0', 'stateful': '0'}, 'children': []}}]}}, {'vzFilter': {'attributes': {'name': 'sql'}, 'children': [{'vzEntry': {'attributes': {'name': 'tcp-1433', 'applyToFrag': '0', 'arpOpc': '0', 'dFromPort': '1433', 'dToPort': '1433', 'etherT': 'ip', 'prot': 'tcp', 'sFromPort': '0', 'sToPort': '0', 'tcpRules': '0', 'stateful': '0'}, 'children': []}}]}}, {'vzBrCP': {'attributes': {'name': 'web', 'scope': 'context'}, 'children': [{'vzSubj': {'attributes': {'name': 'http'}, 'children': [{'vzRsSubjFiltAtt': {'attributes': {'tnVzFilterName': 'http'}}}]}}]}}, {'vzBrCP': {'attributes': {'name': 'database', 'scope': 'context'}, 'children': [{'vzSubj': {'attributes': {'name': 'sql'}, 'children': [{'vzRsSubjFiltAtt': {'attributes': {'tnVzFilterName': 'sql'}}}]}}]}}, {'fvAp': {'attributes': {'name': 'APP_YourFirstName'}, 'children': [{'fvAEPg': {'attributes': {'name': 'Web'}, 'children': [{'fvRsProv': {'attributes': {'tnVzBrCPName': 'web'}}}, {'fvRsCons': {'attributes': {'tnVzBrCPName': 'database'}}}, {'fvRsBd': {'attributes': {'tnFvBDName': 'BD_YourFirstName'}}}]}}, {'fvAEPg': {'attributes': {'name': 'Database'}, 'children': [{'fvRsProv': {'attributes': {'tnVzBrCPName': 'database'}}}, {'fvRsBd': {'attributes': {'tnFvBDName': 'BD_YourFirstName'}}}]}}]}}]}}\n"
     ]
    }
   ],
   "source": [
    "# print url and configuration data\n",
    "print(\"\\n{}\\n\\n{}\".format(tenant.get_url(), tenant.get_json()))"
   ]
  },
  {
   "cell_type": "code",
   "execution_count": 21,
   "metadata": {},
   "outputs": [
    {
     "name": "stdout",
     "output_type": "stream",
     "text": [
      "{\n",
      "  \"fvTenant\":{\n",
      "    \"attributes\":{\n",
      "      \"name\":\"Tenant_FirstName\"\n",
      "    },\n",
      "    \"children\":[\n",
      "      {\n",
      "        \"fvCtx\":{\n",
      "          \"attributes\":{\n",
      "            \"name\":\"VRF_FirstName\",\n",
      "            \"pcEnfPref\":\"enforced\"\n",
      "          },\n",
      "          \"children\":[]\n",
      "        }\n",
      "      },\n",
      "      {\n",
      "        \"fvBD\":{\n",
      "          \"attributes\":{\n",
      "            \"arpFlood\":\"no\",\n",
      "            \"multiDstPktAct\":\"bd-flood\",\n",
      "            \"name\":\"BD_YourFirstName\",\n",
      "            \"unicastRoute\":\"yes\",\n",
      "            \"unkMacUcastAct\":\"proxy\",\n",
      "            \"unkMcastAct\":\"flood\"\n",
      "          },\n",
      "          \"children\":[\n",
      "            {\n",
      "              \"fvRsCtx\":{\n",
      "                \"attributes\":{\n",
      "                  \"tnFvCtxName\":\"VRF_FirstName\"\n",
      "                }\n",
      "              }\n",
      "            },\n",
      "            {\n",
      "              \"fvSubnet\":{\n",
      "                \"attributes\":{\n",
      "                  \"ip\":\"10.10.10.1/24\",\n",
      "                  \"name\":\"SUBNET_YourFirstName\",\n",
      "                  \"scope\":\"public\"\n",
      "                },\n",
      "                \"children\":[]\n",
      "              }\n",
      "            }\n",
      "          ]\n",
      "        }\n",
      "      },\n",
      "      {\n",
      "        \"vzFilter\":{\n",
      "          \"attributes\":{\n",
      "            \"name\":\"http\"\n",
      "          },\n",
      "          \"children\":[\n",
      "            {\n",
      "              \"vzEntry\":{\n",
      "                \"attributes\":{\n",
      "                  \"applyToFrag\":\"0\",\n",
      "                  \"arpOpc\":\"0\",\n",
      "                  \"dFromPort\":\"http\",\n",
      "                  \"dToPort\":\"http\",\n",
      "                  \"etherT\":\"ip\",\n",
      "                  \"name\":\"tcp-80\",\n",
      "                  \"prot\":\"tcp\",\n",
      "                  \"sFromPort\":\"0\",\n",
      "                  \"sToPort\":\"0\",\n",
      "                  \"stateful\":\"0\",\n",
      "                  \"tcpRules\":\"0\"\n",
      "                },\n",
      "                \"children\":[]\n",
      "              }\n",
      "            }\n",
      "          ]\n",
      "        }\n",
      "      },\n",
      "      {\n",
      "        \"vzFilter\":{\n",
      "          \"attributes\":{\n",
      "            \"name\":\"sql\"\n",
      "          },\n",
      "          \"children\":[\n",
      "            {\n",
      "              \"vzEntry\":{\n",
      "                \"attributes\":{\n",
      "                  \"applyToFrag\":\"0\",\n",
      "                  \"arpOpc\":\"0\",\n",
      "                  \"dFromPort\":\"1433\",\n",
      "                  \"dToPort\":\"1433\",\n",
      "                  \"etherT\":\"ip\",\n",
      "                  \"name\":\"tcp-1433\",\n",
      "                  \"prot\":\"tcp\",\n",
      "                  \"sFromPort\":\"0\",\n",
      "                  \"sToPort\":\"0\",\n",
      "                  \"stateful\":\"0\",\n",
      "                  \"tcpRules\":\"0\"\n",
      "                },\n",
      "                \"children\":[]\n",
      "              }\n",
      "            }\n",
      "          ]\n",
      "        }\n",
      "      },\n",
      "      {\n",
      "        \"vzBrCP\":{\n",
      "          \"attributes\":{\n",
      "            \"name\":\"web\",\n",
      "            \"scope\":\"context\"\n",
      "          },\n",
      "          \"children\":[\n",
      "            {\n",
      "              \"vzSubj\":{\n",
      "                \"attributes\":{\n",
      "                  \"name\":\"http\"\n",
      "                },\n",
      "                \"children\":[\n",
      "                  {\n",
      "                    \"vzRsSubjFiltAtt\":{\n",
      "                      \"attributes\":{\n",
      "                        \"tnVzFilterName\":\"http\"\n",
      "                      }\n",
      "                    }\n",
      "                  }\n",
      "                ]\n",
      "              }\n",
      "            }\n",
      "          ]\n",
      "        }\n",
      "      },\n",
      "      {\n",
      "        \"vzBrCP\":{\n",
      "          \"attributes\":{\n",
      "            \"name\":\"database\",\n",
      "            \"scope\":\"context\"\n",
      "          },\n",
      "          \"children\":[\n",
      "            {\n",
      "              \"vzSubj\":{\n",
      "                \"attributes\":{\n",
      "                  \"name\":\"sql\"\n",
      "                },\n",
      "                \"children\":[\n",
      "                  {\n",
      "                    \"vzRsSubjFiltAtt\":{\n",
      "                      \"attributes\":{\n",
      "                        \"tnVzFilterName\":\"sql\"\n",
      "                      }\n",
      "                    }\n",
      "                  }\n",
      "                ]\n",
      "              }\n",
      "            }\n",
      "          ]\n",
      "        }\n",
      "      },\n",
      "      {\n",
      "        \"fvAp\":{\n",
      "          \"attributes\":{\n",
      "            \"name\":\"APP_YourFirstName\"\n",
      "          },\n",
      "          \"children\":[\n",
      "            {\n",
      "              \"fvAEPg\":{\n",
      "                \"attributes\":{\n",
      "                  \"name\":\"Web\"\n",
      "                },\n",
      "                \"children\":[\n",
      "                  {\n",
      "                    \"fvRsProv\":{\n",
      "                      \"attributes\":{\n",
      "                        \"tnVzBrCPName\":\"web\"\n",
      "                      }\n",
      "                    }\n",
      "                  },\n",
      "                  {\n",
      "                    \"fvRsCons\":{\n",
      "                      \"attributes\":{\n",
      "                        \"tnVzBrCPName\":\"database\"\n",
      "                      }\n",
      "                    }\n",
      "                  },\n",
      "                  {\n",
      "                    \"fvRsBd\":{\n",
      "                      \"attributes\":{\n",
      "                        \"tnFvBDName\":\"BD_YourFirstName\"\n",
      "                      }\n",
      "                    }\n",
      "                  }\n",
      "                ]\n",
      "              }\n",
      "            },\n",
      "            {\n",
      "              \"fvAEPg\":{\n",
      "                \"attributes\":{\n",
      "                  \"name\":\"Database\"\n",
      "                },\n",
      "                \"children\":[\n",
      "                  {\n",
      "                    \"fvRsProv\":{\n",
      "                      \"attributes\":{\n",
      "                        \"tnVzBrCPName\":\"database\"\n",
      "                      }\n",
      "                    }\n",
      "                  },\n",
      "                  {\n",
      "                    \"fvRsBd\":{\n",
      "                      \"attributes\":{\n",
      "                        \"tnFvBDName\":\"BD_YourFirstName\"\n",
      "                      }\n",
      "                    }\n",
      "                  }\n",
      "                ]\n",
      "              }\n",
      "            }\n",
      "          ]\n",
      "        }\n",
      "      }\n",
      "    ]\n",
      "  }\n",
      "}\n"
     ]
    }
   ],
   "source": [
    "# neatly print configuration data\n",
    "import json\n",
    "print(json.dumps(tenant.get_json(), sort_keys=True, indent=2, separators=(',',':')))"
   ]
  },
  {
   "cell_type": "code",
   "execution_count": 22,
   "metadata": {
    "colab": {},
    "colab_type": "code",
    "id": "W7S-UERfd1sB"
   },
   "outputs": [],
   "source": [
    "# push configuration to apic\n",
    "resp = session.push_to_apic(tenant.get_url(), data=tenant.get_json())"
   ]
  },
  {
   "cell_type": "code",
   "execution_count": 23,
   "metadata": {
    "colab": {},
    "colab_type": "code",
    "id": "b18FLdBed36M"
   },
   "outputs": [
    {
     "name": "stdout",
     "output_type": "stream",
     "text": [
      "\n",
      "200: OK\n",
      "\n",
      "Tenant_FirstName is ready for use\n"
     ]
    }
   ],
   "source": [
    "# test configuration request\n",
    "if resp.ok:\n",
    "     print(\"\\n{}: {}\\n\\n{} is ready for use\".format(resp.status_code, resp.reason, tenant.name))\n",
    "else:\n",
    "     print(\"\\n{}: {}\\n\\n{} was not created!\\n\\n Error: {}\".format(resp.status_code, resp.reason, subnet.name, resp.content))"
   ]
  },
  {
   "cell_type": "code",
   "execution_count": 25,
   "metadata": {},
   "outputs": [
    {
     "ename": "SyntaxError",
     "evalue": "invalid syntax (<ipython-input-25-2725083986fa>, line 1)",
     "output_type": "error",
     "traceback": [
      "\u001b[1;36m  File \u001b[1;32m\"<ipython-input-25-2725083986fa>\"\u001b[1;36m, line \u001b[1;32m1\u001b[0m\n\u001b[1;33m    ***You have to generate your personal access token using below link -***\u001b[0m\n\u001b[1;37m     ^\u001b[0m\n\u001b[1;31mSyntaxError\u001b[0m\u001b[1;31m:\u001b[0m invalid syntax\n"
     ]
    }
   ],
   "source": [
    "***You have to generate your personal access token using below link -***\n",
    "\n",
    "https://developer.webex.com/docs/api/getting-started (scroll down a little and you will see it.). Copy the token\n",
    "Make sure are looged in https://developer.webex.com"
   ]
  },
  {
   "cell_type": "code",
   "execution_count": 36,
   "metadata": {},
   "outputs": [],
   "source": [
    "#roomId is already generated and entered below for you.\n",
    "#replace \"TOKEN\" with personal access token you generated using last step.\n",
    "\n",
    "token = 'TOKEN'\n",
    "room_id = 'Y2lzY29zcGFyazovL3VzL1JPT00vMTYzZmEwODAtNTgwOS0xMWVhLWI2ZTYtNjNmNTg3ZGMyM2Uw'\n"
   ]
  },
  {
   "cell_type": "code",
   "execution_count": 37,
   "metadata": {},
   "outputs": [],
   "source": [
    "def webex_message(item):\n",
    "    spark = ciscosparkapi.CiscoSparkAPI(access_token=token)\n",
    "    message = spark.messages.create(roomId=room_id, text=\"{0:30}\".format(item.name))"
   ]
  },
  {
   "cell_type": "code",
   "execution_count": 38,
   "metadata": {},
   "outputs": [
    {
     "name": "stdout",
     "output_type": "stream",
     "text": [
      "Below is the list of Tenants -\n",
      "\n",
      "Student-BJ\n",
      "Heroes1\n",
      "hk_01810\n",
      "infra\n",
      "mgmt\n",
      "common\n",
      "Heroes\n",
      "SnV\n",
      "test\n",
      "RedHat_Ansible2\n",
      "tn_dsp\n",
      "43403\n",
      "Ten1\n",
      "INITIAL_Tookit_Tenant\n",
      "Production\n",
      "RB\n",
      "1at500\n",
      "testJordan\n",
      "MIRV1\n",
      "MIRV1-1\n",
      "sm-one\n",
      "INITIALS_Example_Tenant\n",
      "zebra_tenant_1\n",
      "Alex91452\n",
      "BlueStar-Tenant\n",
      "A1\n",
      "Tenant_FirstName\n",
      "2at500\n",
      "INITIALS_Cobra_Tenant\n",
      "INITIALS_Cobra_Tenant_Jeff\n",
      "LA-Network1\n",
      "PB_123\n",
      "PB_456\n",
      "PB_789\n"
     ]
    }
   ],
   "source": [
    "# re-check tenant list\n",
    "new_tenant_list = Tenant.get(session)\n",
    "print(\"Below is the list of Tenants -\\n\")\n",
    "for tn in new_tenant_list:\n",
    "        print(tn.name)\n",
    "        webex_message(tn)"
   ]
  },
  {
   "cell_type": "code",
   "execution_count": 39,
   "metadata": {},
   "outputs": [
    {
     "name": "stdout",
     "output_type": "stream",
     "text": [
      "Below is the Appl List - \n",
      "\n",
      "APP_YourFirstName\n",
      "\n",
      "\n"
     ]
    }
   ],
   "source": [
    "#check app list in new tenant\n",
    "app_list = AppProfile.get(session, tenant)\n",
    "print(\"Below is the Appl List - \\n\")\n",
    "for app in app_list:\n",
    "    print(app.name)\n",
    "    webex_message(app)\n",
    "    print(\"\\n\")"
   ]
  },
  {
   "cell_type": "code",
   "execution_count": 40,
   "metadata": {},
   "outputs": [
    {
     "name": "stdout",
     "output_type": "stream",
     "text": [
      "Below is the List of EPGs Created - \n",
      "\n",
      "Database\n",
      "Web\n"
     ]
    }
   ],
   "source": [
    "# check epg list in new app\n",
    "epg_list = EPG.get(session, app_profile, tenant)\n",
    "print(\"Below is the List of EPGs Created - \\n\")\n",
    "for epg in epg_list:\n",
    "    print(epg.name)\n",
    "    webex_message(epg)"
   ]
  },
  {
   "cell_type": "code",
   "execution_count": 41,
   "metadata": {},
   "outputs": [],
   "source": [
    "exit()"
   ]
  },
  {
   "cell_type": "code",
   "execution_count": null,
   "metadata": {},
   "outputs": [],
   "source": []
  }
 ],
 "metadata": {
  "colab": {
   "collapsed_sections": [],
   "name": "aci_toolkit.ipynb",
   "provenance": []
  },
  "kernelspec": {
   "display_name": "venv",
   "language": "python",
   "name": "venv"
  },
  "language_info": {
   "codemirror_mode": {
    "name": "ipython",
    "version": 3
   },
   "file_extension": ".py",
   "mimetype": "text/x-python",
   "name": "python",
   "nbconvert_exporter": "python",
   "pygments_lexer": "ipython3",
   "version": "3.6.5"
  }
 },
 "nbformat": 4,
 "nbformat_minor": 1
}
